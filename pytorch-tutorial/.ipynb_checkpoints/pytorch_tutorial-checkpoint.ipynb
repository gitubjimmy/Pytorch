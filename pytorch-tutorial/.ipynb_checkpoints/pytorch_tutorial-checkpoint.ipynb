{
 "cells": [
  {
   "cell_type": "code",
   "execution_count": 1,
   "metadata": {},
   "outputs": [
    {
     "name": "stderr",
     "output_type": "stream",
     "text": [
      "/Users/jihwan/.pyenv/versions/3.8.6/lib/python3.8/site-packages/torchaudio/backend/utils.py:53: UserWarning: \"sox\" backend is being deprecated. The default backend will be changed to \"sox_io\" backend in 0.8.0 and \"sox\" backend will be removed in 0.9.0. Please migrate to \"sox_io\" backend. Please refer to https://github.com/pytorch/audio/issues/903 for the detail.\n",
      "  warnings.warn(\n"
     ]
    }
   ],
   "source": [
    "import torch\n",
    "import torchaudio\n",
    "import torchvision\n",
    "torchaudio.set_audio_backend(\"sox_io\")\n",
    "import matplotlib.pyplot as plt"
   ]
  },
  {
   "cell_type": "markdown",
   "metadata": {},
   "source": [
    "# Data Import Practice"
   ]
  },
  {
   "cell_type": "code",
   "execution_count": 41,
   "metadata": {
    "code_folding": []
   },
   "outputs": [
    {
     "name": "stdout",
     "output_type": "stream",
     "text": [
      "Waveform: tensor([[ 3.0518e-05,  6.1035e-05,  3.0518e-05,  ..., -1.8616e-03,\n",
      "         -2.2583e-03, -1.3733e-03]])\n",
      "Sample rate: 8000\n",
      "Labels: <torchaudio.datasets.yesno.YESNO object at 0x144dabe20>\n"
     ]
    }
   ],
   "source": [
    "#root: folder to download dataset\n",
    "yesno_data = torchaudio.datasets.YESNO(\n",
    "    root=\"./datasets/\",\n",
    "    download=False\n",
    "    # A data point in Yesno is a tuple (waveform, sample_rate, labels) where labels \n",
    ")\n",
    "\n",
    "waveform, sample_rate, lables = yesno_data[0]\n",
    "print(\"Waveform: {}\\nSample rate: {}\\nLabels: {}\".format(\n",
    "        waveform, sample_rate, yesno_data))"
   ]
  },
  {
   "cell_type": "code",
   "execution_count": 32,
   "metadata": {},
   "outputs": [],
   "source": [
    "#batch_size: how many sample per batch\n",
    "#DataLoader makes data iterable\n",
    "data_loader = torch.utils.data.DataLoader(\n",
    "    yesno_data,\n",
    "    batch_size=1,\n",
    "    shuffle=True\n",
    ")"
   ]
  },
  {
   "cell_type": "code",
   "execution_count": 39,
   "metadata": {},
   "outputs": [
    {
     "name": "stdout",
     "output_type": "stream",
     "text": [
      "Data:  [tensor([[[-0.0008, -0.0009, -0.0010,  ...,  0.0053,  0.0047,  0.0034]]]), tensor([8000]), [tensor([0]), tensor([0]), tensor([1]), tensor([1]), tensor([0]), tensor([1]), tensor([0]), tensor([0])]]\n",
      "Waveform: tensor([[[-0.0008, -0.0009, -0.0010,  ...,  0.0053,  0.0047,  0.0034]]])\n",
      "Sample rate: tensor([8000])\n",
      "Labels: [tensor([0]), tensor([0]), tensor([1]), tensor([1]), tensor([0]), tensor([1]), tensor([0]), tensor([0])]\n",
      "tensor([[-0.0008, -0.0009, -0.0010,  ...,  0.0053,  0.0047,  0.0034]])\n"
     ]
    },
    {
     "data": {
      "text/plain": [
       "[<matplotlib.lines.Line2D at 0x144d34190>]"
      ]
     },
     "execution_count": 39,
     "metadata": {},
     "output_type": "execute_result"
    },
    {
     "data": {
      "image/png": "[encoded data removed]",
      "text/plain": [
       "<Figure size 432x288 with 1 Axes>"
      ]
     },
     "metadata": {
      "needs_background": "light"
     },
     "output_type": "display_data"
    }
   ],
   "source": [
    "# tensor(): scalar, tensor([]): vector, tensor([[]]): matrix, ... etc\n",
    "# dataLoader increase tensor dimension by 1\n",
    "for data in data_loader:\n",
    "    print(\"Data: \", data)\n",
    "    print(\"Waveform: {}\\nSample rate: {}\\nLabels: {}\".format(\n",
    "        data[0], data[1], data[2]))\n",
    "    \n",
    "    print(data[0][0]) # == waveform(shuffled)\n",
    "    break\n",
    "    \n",
    "plt.figure()\n",
    "#transpose to make it into row vector\n",
    "plt.plot(waveform.t().numpy())"
   ]
  },
  {
   "cell_type": "markdown",
   "metadata": {},
   "source": [
    "# MNIST CNN Practice  \n",
    "https://nextjournal.com/gkoehler/pytorch-mnist  "
   ]
  },
  {
   "cell_type": "code",
   "execution_count": 18,
   "metadata": {},
   "outputs": [],
   "source": [
    "import torch\n",
    "import torch.nn as nn\n",
    "import torch.nn.functional as F\n",
    "import torch.optim as optim\n",
    "import matplotlib.pyplot as plt"
   ]
  },
  {
   "cell_type": "markdown",
   "metadata": {},
   "source": [
    "### hyperparameters"
   ]
  },
  {
   "cell_type": "code",
   "execution_count": 3,
   "metadata": {},
   "outputs": [],
   "source": [
    "n_epochs = 3\n",
    "batch_size_train = 64\n",
    "batch_size_test = 1000\n",
    "learning_rate = 0.01\n",
    "momentum = 0.5"
   ]
  },
  {
   "cell_type": "markdown",
   "metadata": {},
   "source": [
    "### load data"
   ]
  },
  {
   "cell_type": "code",
   "execution_count": 7,
   "metadata": {},
   "outputs": [],
   "source": [
    "#transform takes PIL image and convert it\n",
    "#excluded .normalize -> not sure if it's needed for input image\n",
    "mnist_train = torchvision.datasets.MNIST(\n",
    "    root = \"./datasets/\",\n",
    "    train = True,\n",
    "    transform = torchvision.transforms.ToTensor(),\n",
    "    download = False\n",
    ") \n",
    "\n",
    "mnist_test = torchvision.datasets.MNIST(\n",
    "    root = \"./datasets/\",\n",
    "    train = False,\n",
    "    transform = torchvision.transforms.ToTensor(),\n",
    "    download = False\n",
    ") "
   ]
  },
  {
   "cell_type": "code",
   "execution_count": 8,
   "metadata": {},
   "outputs": [],
   "source": [
    "train_loader = torch.utils.data.DataLoader(\n",
    "    mnist_train,\n",
    "    batch_size=batch_size_train,\n",
    "    shuffle=True\n",
    ")\n",
    "\n",
    "test_loader = torch.utils.data.DataLoader(\n",
    "    mnist_test,\n",
    "    batch_size=batch_size_test,\n",
    "    shuffle=True\n",
    ")"
   ]
  },
  {
   "cell_type": "markdown",
   "metadata": {},
   "source": [
    "### examples"
   ]
  },
  {
   "cell_type": "code",
   "execution_count": 12,
   "metadata": {},
   "outputs": [
    {
     "data": {
      "text/plain": [
       "torch.Size([1000, 1, 28, 28])"
      ]
     },
     "execution_count": 12,
     "metadata": {},
     "output_type": "execute_result"
    }
   ],
   "source": [
    "#enumerate: (0, data[0]), (1, data[1]), ...\n",
    "examples = enumerate(test_loader)\n",
    "#next: return next iterator\n",
    "batch_idx, (example_data, example_label) = next(examples)\n",
    "#.shape is a member var, type: torch.Size\n",
    "example_data.shape\n",
    "#[1000, 1, 28, 28]: 1000 example 28x28, no rgb -> 1"
   ]
  },
  {
   "cell_type": "code",
   "execution_count": 17,
   "metadata": {},
   "outputs": [
    {
     "data": {
      "image/png": "[encoded data removed]",
      "text/plain": [
       "<Figure size 432x288 with 6 Axes>"
      ]
     },
     "metadata": {},
     "output_type": "display_data"
    }
   ],
   "source": [
    "fig = plt.figure()\n",
    "for i in range(6):\n",
    "    plt.subplot(2,3,i+1)\n",
    "    plt.tight_layout()\n",
    "    plt.imshow(example_data[i][0], cmap='gray', interpolation='none')\n",
    "    plt.title(\"Ground Truth: {}\".format(example_label[i]))\n",
    "    #erase x, y axis\n",
    "    plt.xticks([])\n",
    "    plt.yticks([])\n"
   ]
  },
  {
   "cell_type": "markdown",
   "metadata": {},
   "source": [
    "### define network"
   ]
  },
  {
   "cell_type": "code",
   "execution_count": 19,
   "metadata": {},
   "outputs": [],
   "source": [
    "class Net(nn.Module):\n",
    "    def __init__(self):\n",
    "        super(Net, self).__init__()\n",
    "        # define layers, layers are classes, output = layer(input)\n",
    "        # Conv2d(input channel, outpu channel, kernel size)\n",
    "        self.conv1 = nn.Conv2d(1, 10, kernel_size=5)\n",
    "        self.conv2 = nn.Conv2d(10, 20, kernel_size=5)\n",
    "        # default 0.5\n",
    "        # doesn't perform dropout if self.training is false\n",
    "        self.conv2_drop = nn.Dropout2d()\n",
    "        self.fc1 = nn.Linear(320, 50)\n",
    "        # numbers 0~9: 10\n",
    "        self.fc2 = nn.Linear(50, 10)\n",
    "\n",
    "    def forward(self, x):\n",
    "        # use defined layers to forward prop\n",
    "        # nn.functional are functions\n",
    "        x = self.conv1(x)\n",
    "        x = F.max_pool2d(x, 2)\n",
    "        x = F.relu(x)\n",
    "        # 28x28 -> 24x24 -> 12x12\n",
    "        # if kernel_size=3 28x28 -> 26x26 -> 13x13\n",
    "        x = self.conv2(x)\n",
    "        x = self.conv2_drop(x)\n",
    "        x = F.max_pool2d(x, 2)\n",
    "        x = F.relu(x)\n",
    "        x = x.view(-1, 320)  # reshape & view, -1 is infered from other value\n",
    "        # 12x12 -> 8x8 -> 4x4\n",
    "        # if kernel_size=3 13x13 -> 11x11 -> 5x5\n",
    "        # 4x4*20 -> 320 fc(320, 50)\n",
    "        x = self.fc1(x)\n",
    "        x = F.relu(x)\n",
    "        x-F.dropout(x, training=self.training)\n",
    "        # self.training is in nn.Module\n",
    "        # set to false after nn.Moduel.train()\n",
    "        x = self.fc2(x)\n",
    "        # documnetations says use log_softmax instead of softmax\n",
    "        return F.log_softmax"
   ]
  },
  {
   "cell_type": "markdown",
   "metadata": {},
   "source": [
    "### set variables"
   ]
  },
  {
   "cell_type": "code",
   "execution_count": 20,
   "metadata": {},
   "outputs": [],
   "source": [
    "network = Net()\n",
    "#pass network parameters using base function\n",
    "optimizer = optim.SGD(network.parameters(), lr=learning_rate, momentum=momentum)"
   ]
  },
  {
   "cell_type": "code",
   "execution_count": 21,
   "metadata": {},
   "outputs": [],
   "source": [
    "train_losses = []   # y-value of graph\n",
    "train_counter = []  # x-value of graph\n",
    "test_losses = []    # y-value of graph\n",
    "#dataLoader.dataset contains the actual data\n",
    "test_counter = [i*len(train_loader.dataset) for i in range(n_epochs+1)]\n",
    "# x-value of grpah one datapoint after each epoch"
   ]
  },
  {
   "cell_type": "code",
   "execution_count": null,
   "metadata": {},
   "outputs": [],
   "source": []
  }
 ],
 "metadata": {
  "kernelspec": {
   "display_name": "Python 3",
   "language": "python",
   "name": "python3"
  },
  "language_info": {
   "codemirror_mode": {
    "name": "ipython",
    "version": 3
   },
   "file_extension": ".py",
   "mimetype": "text/x-python",
   "name": "python",
   "nbconvert_exporter": "python",
   "pygments_lexer": "ipython3",
   "version": "3.8.6"
  }
 },
 "nbformat": 4,
 "nbformat_minor": 4
}
